{
 "cells": [
  {
   "cell_type": "code",
   "execution_count": null,
   "metadata": {
    "collapsed": true
   },
   "outputs": [],
   "source": [
    "import plotly\n",
    "import plotly.graph_objs as go\n",
    "plotly.offline.init_notebook_mode(connected=True)"
   ]
  },
  {
   "cell_type": "code",
   "execution_count": null,
   "metadata": {
    "collapsed": true
   },
   "outputs": [],
   "source": [
    "def load_particles(particle_file):\n",
    "    x = []\n",
    "    y = []\n",
    "    z = []\n",
    "    vx = []\n",
    "    vy = []\n",
    "    vz = []\n",
    "    for line in particle_file:\n",
    "        data_float = [float(item) for item in line.split()]\n",
    "        x.append(data_float[0])\n",
    "        y.append(data_float[1])\n",
    "        z.append(data_float[2])\n",
    "        vx.append(data_float[3])\n",
    "        vy.append(data_float[4])\n",
    "        vz.append(data_float[5])\n",
    "    return x,y,z,vx,vy,vz\n",
    "\n",
    "def plot_files(basename, maxnum):\n",
    "    data = []\n",
    "    for seqfile in range(1,maxnum):\n",
    "        with open(basename+\"_\"+str(seqfile)+\".txt\") as f:\n",
    "            x,y,z,vx,vy,vz = load_particles(f)\n",
    "            trace = go.Scatter3d(\n",
    "                x=x,\n",
    "                y=y,\n",
    "                z=z,\n",
    "                visible=False,\n",
    "                mode='markers',\n",
    "                marker=dict(size=12, line=dict(color='rgba(217, 217, 217, 0.14)',width=0.5),opacity=0.8)\n",
    "            )\n",
    "            data.append(trace)\n",
    "\n",
    "    data[0].visible=True\n",
    "\n",
    "    steps = []\n",
    "    for i in range(len(data)):\n",
    "        step = dict(\n",
    "            method = 'restyle',\n",
    "            args = ['visible', [False] * len(data)],\n",
    "        )\n",
    "        step['args'][1][i] = True\n",
    "        steps.append(step)\n",
    "\n",
    "    sliders = [dict(\n",
    "        active = 1,\n",
    "        currentvalue = {\"prefix\": \"time step: \"},\n",
    "        pad = {\"t\": 50},\n",
    "        steps = steps\n",
    "    )]\n",
    "\n",
    "    layout = go.Layout(sliders=sliders, scene = dict(\n",
    "                  aspectratio = dict(x=1,y=1,z=1),\n",
    "                  xaxis=dict(range=[0, 10]),\n",
    "                  yaxis=dict(range=[0, 10]),\n",
    "                  zaxis=dict(range=[0, 10]),\n",
    "                  )\n",
    "            )\n",
    "\n",
    "    fig = go.Figure(data=data, layout=layout)\n",
    "    plot = plotly.offline.iplot(fig, filename='particles-3d-scatter')\n",
    "    return plot\n"
   ]
  },
  {
   "cell_type": "code",
   "execution_count": null,
   "metadata": {
    "collapsed": true
   },
   "outputs": [],
   "source": [
    "plot_files(\"../temp/simple1_100\", 100)"
   ]
  }
 ],
 "metadata": {
  "kernelspec": {
   "display_name": "Python [anaconda3]",
   "language": "python",
   "name": "Python [anaconda3]"
  },
  "language_info": {
   "codemirror_mode": {
    "name": "ipython",
    "version": 3
   },
   "file_extension": ".py",
   "mimetype": "text/x-python",
   "name": "python",
   "nbconvert_exporter": "python",
   "pygments_lexer": "ipython3",
   "version": "3.5.3"
  }
 },
 "nbformat": 4,
 "nbformat_minor": 2
}
